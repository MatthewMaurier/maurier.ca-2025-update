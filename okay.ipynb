{
 "cells": [
  {
   "cell_type": "code",
   "execution_count": 3,
   "id": "d9edca0b",
   "metadata": {},
   "outputs": [
    {
     "name": "stdout",
     "output_type": "stream",
     "text": [
      "pbkdf2:sha256:260000$IUU74iQCAMUVntHe$43cb546ad35de9245c9b50f281724c27e1b591f4e3ac2b210ba267bd0f3769ec\n"
     ]
    }
   ],
   "source": [
    "from werkzeug.security import generate_password_hash\n",
    "print(generate_password_hash(\"nhSTpYCSV4TQ*C$&2LQv3r%q5iYyodSD\"))"
   ]
  }
 ],
 "metadata": {
  "kernelspec": {
   "display_name": "base",
   "language": "python",
   "name": "python3"
  },
  "language_info": {
   "codemirror_mode": {
    "name": "ipython",
    "version": 3
   },
   "file_extension": ".py",
   "mimetype": "text/x-python",
   "name": "python",
   "nbconvert_exporter": "python",
   "pygments_lexer": "ipython3",
   "version": "3.11.7"
  }
 },
 "nbformat": 4,
 "nbformat_minor": 5
}
